{
 "cells": [
  {
   "cell_type": "code",
   "execution_count": null,
   "id": "aed6d6ad-74e0-4201-bc9e-544303510079",
   "metadata": {},
   "outputs": [],
   "source": [
    "pip install mysql-connector-python\n"
   ]
  },
  {
   "cell_type": "code",
   "execution_count": null,
   "id": "8f333cb8-255a-41d8-8a5b-d31dcfe11367",
   "metadata": {},
   "outputs": [],
   "source": [
    "pip install pymongo"
   ]
  },
  {
   "cell_type": "code",
   "execution_count": 3,
   "id": "7ba2db5b-a7e9-4f2b-a3b7-1dac0785f15c",
   "metadata": {},
   "outputs": [],
   "source": [
    "import mysql.connector\n",
    "from pymongo import MongoClient\n"
   ]
  },
  {
   "cell_type": "code",
   "execution_count": 4,
   "id": "f830c189-7c1e-42e2-8ec0-07d34e3b708e",
   "metadata": {},
   "outputs": [],
   "source": [
    "\n",
    "# Conexión a MySQL\n",
    "mysql_connection = mysql.connector.connect(\n",
    "    host=\"localhost\",\n",
    "    user=\"root\",\n",
    "    password=\"bigdat@\",\n",
    "    database=\"practicassql\"\n",
    ")\n",
    "mysql_cursor = mysql_connection.cursor()\n",
    "\n"
   ]
  },
  {
   "cell_type": "code",
   "execution_count": 12,
   "id": "621c40a9-935a-411d-9f5e-1767d9e1c369",
   "metadata": {},
   "outputs": [],
   "source": [
    "# Operaciones CRUD en MySQL. Ejemplo de código a utilizar...\n",
    "\n",
    "def mysql_read(query):\n",
    "    mysql_cursor.execute(query)\n",
    "    result = mysql_cursor.fetchall()\n",
    "    return result\n"
   ]
  },
  {
   "cell_type": "code",
   "execution_count": 13,
   "id": "f1bc4342-4148-4df0-b55b-d13078236112",
   "metadata": {},
   "outputs": [
    {
     "name": "stdout",
     "output_type": "stream",
     "text": [
      "Resultados en MySQL: [(23578555, 'ES89', 'JUAN', 'Debito', 3624, 14313.5), (56478885, 'EN23', 'MARIA', 'Credito', 1234, 3225.0), (50205376, 'FR02', 'ALFONSO', 'Debito', 6538, -32.19), (31615296, 'AM11', 'MIGUEL', 'Credito', 8081, 153.4), (17800377, 'ES03', 'LUCIANO', 'Debito', 3275, -3.25), (30450279, 'FR47', 'JUANA', 'Credito', 5875, -7985.0), (18073899, 'AM21', 'TOÃ‘I', 'Debito', 3572, 1.95), (65447917, 'ES11', 'MARIA DEL CARMEN', 'Debito', 6985, 110.5), (89599799, 'ES09', 'UNAI', 'Debito', 3259, 99999999999.0)]\n"
     ]
    }
   ],
   "source": [
    "\n",
    "# Ejemplos de uso\n",
    "QUERY = \"SELECT * FROM banco\"\n",
    "mysql_data = mysql_read(QUERY)\n",
    "print(\"Resultados en MySQL:\", mysql_data)\n"
   ]
  },
  {
   "cell_type": "code",
   "execution_count": null,
   "id": "92cdbebd-24d4-459c-b9ea-785331b0e158",
   "metadata": {},
   "outputs": [],
   "source": [
    "# MongoDB\n",
    "mongo_client = MongoClient(\"mongodb://localhost:27017/\")\n",
    "mongo_db = mongo_client[\"nombre_de_la_base_de_datos\"]\n",
    "mongo_collection = mongo_db[\"nombre_de_la_coleccion\"]\n"
   ]
  },
  {
   "cell_type": "code",
   "execution_count": null,
   "id": "82c6d35f-c771-4b20-aaea-c09ff323f2fe",
   "metadata": {},
   "outputs": [],
   "source": [
    "# MongoDB\n",
    "\n",
    "def mongo_read():\n",
    "    result = mongo_collection.find()\n",
    "    return list(result)\n"
   ]
  },
  {
   "cell_type": "code",
   "execution_count": null,
   "id": "6f06039b-9382-4c00-87cc-93b9b85b0d19",
   "metadata": {},
   "outputs": [],
   "source": [
    "\n",
    "mongo_data = mongo_read()\n",
    "print(\"Datos en MongoDB:\", mongo_data)\n"
   ]
  }
 ],
 "metadata": {
  "kernelspec": {
   "display_name": "Python 3 (ipykernel)",
   "language": "python",
   "name": "python3"
  },
  "language_info": {
   "codemirror_mode": {
    "name": "ipython",
    "version": 3
   },
   "file_extension": ".py",
   "mimetype": "text/x-python",
   "name": "python",
   "nbconvert_exporter": "python",
   "pygments_lexer": "ipython3",
   "version": "3.10.11"
  }
 },
 "nbformat": 4,
 "nbformat_minor": 5
}
