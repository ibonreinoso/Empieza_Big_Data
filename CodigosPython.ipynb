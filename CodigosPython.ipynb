{
 "cells": [
  {
   "cell_type": "markdown",
   "id": "ed0131b3-9d75-4029-985c-14ce0d1a459a",
   "metadata": {},
   "source": [
    "## Comenzando con Python: variables y esquema de programación"
   ]
  },
  {
   "cell_type": "code",
   "execution_count": 1,
   "id": "90fb7245-5513-4c59-874a-4187c9d76e4e",
   "metadata": {},
   "outputs": [
    {
     "data": {
      "text/plain": [
       "float"
      ]
     },
     "execution_count": 1,
     "metadata": {},
     "output_type": "execute_result"
    }
   ],
   "source": [
    "a = 1\n",
    "b = 2.0\n",
    "type( a )\n",
    "type( b )\n"
   ]
  },
  {
   "cell_type": "code",
   "execution_count": 3,
   "id": "d8d8778a-e960-4c3e-adcb-9576f0109b6b",
   "metadata": {},
   "outputs": [
    {
     "name": "stdout",
     "output_type": "stream",
     "text": [
      "<class 'str'>\n",
      "ibon 29\n"
     ]
    }
   ],
   "source": [
    "nombre = \"ibon\"\n",
    "edad =  29\n",
    "print(  type(  nombre  )  )\n",
    "print( nombre, edad )\n"
   ]
  },
  {
   "cell_type": "code",
   "execution_count": 4,
   "id": "08eb7975-8ffd-4e1d-8c0d-9412a4adf9e6",
   "metadata": {},
   "outputs": [],
   "source": [
    "# o. Autor y objetivo del código. Documentación del código.\n",
    "# 1. Zona de librerías \n",
    "# 2. Funciones\n",
    "# 3. Variables\n",
    "# 4. Zona del Algoritmo\n",
    "# 5. Zona de resultado\n"
   ]
  },
  {
   "cell_type": "code",
   "execution_count": 7,
   "id": "edc9ab4a-71f6-4276-806a-dcba5fa51bfd",
   "metadata": {},
   "outputs": [
    {
     "name": "stdout",
     "output_type": "stream",
     "text": [
      "El peso molecular correspondiente: 243\n"
     ]
    }
   ],
   "source": [
    "# o. Autor y objetivo del código. Documentación del código.  \n",
    "'''\n",
    "Autor: Ibon Reinoso.\n",
    "Objetivo:  Calcular el Peso Molecular en base a dos átomos. Esta, se calcula con la siguiente fórmula: PesoMolecular = numAtomos1 * pesoAtomo1 + numAtomos2 * pesoAtomo2\n",
    "'''\n",
    "# 1. Zona de librerías \n",
    "# 2. Funciones\n",
    "# 3. Variables\n",
    "numAtomo1 = 20\n",
    "numAtomo2 = 3\n",
    "pesoAtomo1 = 12\n",
    "pesoAtomo2 = 1\n",
    "pM =  0 #variable de salida esperada. Siempre inicializar a 0.\n",
    "# 4. Zona del Algoritmo\n",
    "pM = numAtomo1 * pesoAtomo1 + numAtomo2 * pesoAtomo2\n",
    "# 5. Zona de resultado\n",
    "print( 'El peso molecular correspondiente:', pM )\n"
   ]
  },
  {
   "cell_type": "code",
   "execution_count": 8,
   "id": "c3c54b39-43bf-41be-b67d-d1507a6fbf6c",
   "metadata": {},
   "outputs": [
    {
     "name": "stdout",
     "output_type": "stream",
     "text": [
      "6.28\n"
     ]
    }
   ],
   "source": [
    "#Versión simplificada...\n",
    "# variables de entrada y salida\n",
    "d = 1\n",
    "c = 0 # out\n",
    "#zona algoritmo\n",
    "c = 2 * 3.14 * d\n",
    "#resultado\n",
    "print( c )\n"
   ]
  },
  {
   "cell_type": "code",
   "execution_count": 9,
   "id": "3d1135ad-43e6-4cbf-8f0d-0662ed6c08bd",
   "metadata": {},
   "outputs": [
    {
     "name": "stdout",
     "output_type": "stream",
     "text": [
      "6.283185307179586\n"
     ]
    }
   ],
   "source": [
    "# Versión mejorada:\n",
    "import math\n",
    "\n",
    "d = 1\n",
    "c = 0 # out\n",
    "#zona algoritmo\n",
    "c = 2 * math.pi * d\n",
    "#resultado\n",
    "print( c )\n",
    "\n"
   ]
  },
  {
   "cell_type": "code",
   "execution_count": 10,
   "id": "19e4709b-7c1a-4866-897c-08a9906f324e",
   "metadata": {},
   "outputs": [
    {
     "name": "stdout",
     "output_type": "stream",
     "text": [
      "12\n"
     ]
    }
   ],
   "source": [
    "# Variables\n",
    "intensidad = 3\n",
    "resistencia = 4\n",
    "voltaje = 0 #out\n",
    "# Zona Algoritmo\n",
    "voltaje = intensidad * resistencia\n",
    "# Resultado\n",
    "print( voltaje )"
   ]
  },
  {
   "cell_type": "code",
   "execution_count": 12,
   "id": "265c20fc-9623-488f-a7a1-0cac3763f8f5",
   "metadata": {},
   "outputs": [
    {
     "name": "stdout",
     "output_type": "stream",
     "text": [
      "Resultado de inv.: 486509.63 €. Beneficio Neto:  336509.63 €.\n"
     ]
    }
   ],
   "source": [
    "'''\n",
    "Autor: Ibon Reinoso Isasi\n",
    "Fecha:  11/08/2023\n",
    "Objetivo: Calcular el interés compuesto\n",
    "\n",
    "===========\n",
    "Documentación de variables\n",
    "===========\n",
    "\n",
    "cI = Capital Inicial\n",
    "i = interés\n",
    "n = número de veces, periodos, ciclos.\n",
    "cF = capital Final\n",
    "dif = diferencia de cF y cI, es decir, el beneficio \"en limpio\"\n",
    "\n",
    "'''\n",
    "\n",
    "cI = 150000\n",
    "i = 0.04\n",
    "n = 30\n",
    "cF = 0 \n",
    "\n",
    "cF = cI * (1 + i) ** n \n",
    "dif = cF - cI\n",
    "\n",
    "print('Resultado de inv.:', round(cF,2),'€. Beneficio Neto: ',round(dif,2),'€.')\n"
   ]
  },
  {
   "cell_type": "markdown",
   "id": "98cf582a-2135-4b81-a610-566c017d8667",
   "metadata": {},
   "source": [
    "## Estructuras Condicionales"
   ]
  },
  {
   "cell_type": "code",
   "execution_count": 13,
   "id": "d410be90-da0f-4e0e-a58a-2b8ff6562b29",
   "metadata": {},
   "outputs": [
    {
     "name": "stdout",
     "output_type": "stream",
     "text": [
      "b es mayor a a\n"
     ]
    }
   ],
   "source": [
    "a = 3\n",
    "b = 20\n",
    "if b > a:\n",
    "  print(\"b es mayor a a\")\n"
   ]
  },
  {
   "cell_type": "code",
   "execution_count": 15,
   "id": "42fc71f1-8459-4327-b477-26c5798db587",
   "metadata": {},
   "outputs": [
    {
     "name": "stdout",
     "output_type": "stream",
     "text": [
      "B\n"
     ]
    }
   ],
   "source": [
    "nota = 85\n",
    "\n",
    "if nota >= 90:\n",
    "    print(\"A\")\n",
    "elif nota >= 80:\n",
    "    print(\"B\")\n",
    "elif nota >= 70:\n",
    "    print(\"C\")\n",
    "elif nota >= 60:\n",
    "    print(\"D\")\n",
    "else:\n",
    "    print(\"F\")\n"
   ]
  },
  {
   "cell_type": "code",
   "execution_count": null,
   "id": "116ec4fa-c64a-4193-862d-72dec150e87c",
   "metadata": {},
   "outputs": [],
   "source": [
    "op = 1 #in\n",
    "a = 10 #in\n",
    "b = 12 #in\n",
    "res = 0 #out\n",
    "\n",
    "if(op == 1):\n",
    "    res = a + b\n",
    "elif(op == 2):\n",
    "    res = a * b\n",
    "elif(op == 3):\n",
    "    res = a - b\n",
    "elif(op == 4):\n",
    "    if(b != 0):\n",
    "        res = a / b\n",
    "print(res)\n",
    "\n"
   ]
  },
  {
   "cell_type": "code",
   "execution_count": 17,
   "id": "fb386379-df86-4b17-b676-84752d7e0818",
   "metadata": {},
   "outputs": [
    {
     "name": "stdout",
     "output_type": "stream",
     "text": [
      "Debe pagar 0 €\n"
     ]
    }
   ],
   "source": [
    "puntos = 100 #in\n",
    "precio_cesta = 245.60 #in\n",
    "precio_final_compra = 0 #out\n",
    "\n",
    "if (puntos < 100):\n",
    "    precio_final_compra = precio_cesta * 0.9 \n",
    "elif(100 < puntos < 150): #Otra manera de usar condiciones en Python\n",
    "    precio_final_compra = precio_cesta * 0.88\n",
    "elif(puntos == 150):\n",
    "    precio_final_compra = precio_cesta * 0.85\n",
    "elif(puntos > 150):\n",
    "    precio_final_compra = precio_cesta * 0.80\n",
    "\n",
    "print('Debe pagar',precio_final_compra,'€')\n"
   ]
  },
  {
   "cell_type": "markdown",
   "id": "c820befc-8804-4e48-b0e7-32f718e84b04",
   "metadata": {},
   "source": [
    "## Estructuras Repetitivas - For"
   ]
  },
  {
   "cell_type": "code",
   "execution_count": 18,
   "id": "1814462d-4631-45c8-8fa9-08ad6d47f5e3",
   "metadata": {},
   "outputs": [
    {
     "name": "stdout",
     "output_type": "stream",
     "text": [
      "0\n",
      "1\n",
      "2\n",
      "3\n",
      "4\n",
      "5\n",
      "6\n",
      "7\n",
      "8\n",
      "9\n",
      "10\n"
     ]
    }
   ],
   "source": [
    "for i in range(0, 10 + 1):\n",
    "    print(i)"
   ]
  },
  {
   "cell_type": "code",
   "execution_count": 19,
   "id": "fca8277f-ff76-45a3-ad48-0b4451b7b21a",
   "metadata": {},
   "outputs": [
    {
     "name": "stdout",
     "output_type": "stream",
     "text": [
      "m\n",
      "i\n",
      "P\n",
      "a\n",
      "l\n",
      "a\n",
      "b\n",
      "r\n",
      "a\n"
     ]
    }
   ],
   "source": [
    "for i in 'miPalabra':\n",
    "    print(i)"
   ]
  },
  {
   "cell_type": "code",
   "execution_count": 22,
   "id": "b3482725-b6cb-403c-9167-5441fdf2643c",
   "metadata": {},
   "outputs": [
    {
     "name": "stdout",
     "output_type": "stream",
     "text": [
      "55\n"
     ]
    }
   ],
   "source": [
    "factorial = 10 \n",
    "total = 0 #out\n",
    "#Algoritmo\n",
    "for i in range (1, 10 + 1):\n",
    "    total += i # Esto es lo mismo que total = total + i.\n",
    "print(total)"
   ]
  },
  {
   "cell_type": "code",
   "execution_count": 23,
   "id": "ac6db9ff-f489-4574-849f-3aafb38778a1",
   "metadata": {},
   "outputs": [
    {
     "name": "stdout",
     "output_type": "stream",
     "text": [
      "B 1\n",
      "i 2\n",
      "g 3\n",
      "  4\n",
      "D 5\n",
      "a 6\n",
      "t 7\n",
      "a 8\n",
      "  9\n",
      "e 10\n",
      "s 11\n",
      "  12\n",
      "c 13\n",
      "h 14\n",
      "u 15\n",
      "l 16\n",
      "o 17\n"
     ]
    }
   ],
   "source": [
    "palabra = 'Big Data es chulo'\n",
    "contador = 0\n",
    "\n",
    "for i in palabra:\n",
    "    contador += 1\n",
    "    print( i, contador)"
   ]
  },
  {
   "cell_type": "code",
   "execution_count": null,
   "id": "a2b43777-51a5-41f9-9eb7-69cc4290f073",
   "metadata": {},
   "outputs": [],
   "source": []
  },
  {
   "cell_type": "markdown",
   "id": "543ea65a-b691-4189-b4c2-6e39ad7d57e1",
   "metadata": {},
   "source": [
    "## Estructuras Repetitivas - While"
   ]
  },
  {
   "cell_type": "code",
   "execution_count": 24,
   "id": "da1ba38d-6364-4e4a-8845-f6ab684e5323",
   "metadata": {},
   "outputs": [
    {
     "name": "stdout",
     "output_type": "stream",
     "text": [
      "0\n",
      "1\n",
      "2\n",
      "3\n",
      "4\n"
     ]
    }
   ],
   "source": [
    "contador = 0\n",
    "while contador < 5:\n",
    "    print(contador)\n",
    "    contador += 1\n"
   ]
  },
  {
   "cell_type": "code",
   "execution_count": 29,
   "id": "9d86d041-9541-446a-a48a-8a98a585a00c",
   "metadata": {},
   "outputs": [
    {
     "name": "stdin",
     "output_type": "stream",
     "text": [
      "Insertar contraseña... 1234\n"
     ]
    },
    {
     "name": "stdout",
     "output_type": "stream",
     "text": [
      "Desbloquear pantalla\n"
     ]
    }
   ],
   "source": [
    "PIN_SECRETO = 1234\n",
    "intentos = 2\n",
    "tecleado_por_usuario = int( input('Insertar contraseña...') ) \n",
    "while(intentos > 0 and tecleado_por_usuario != PIN_SECRETO):\n",
    "    print('Mal. Intentalo de nuevo...')\n",
    "    intentos -= 1\n",
    "    tecleado_por_usuario = int( input('Insertar contraseña...') ) \n",
    "    \n",
    "if(tecleado_por_usuario == PIN_SECRETO):\n",
    "    print('Desbloquear pantalla')\n",
    "else:\n",
    "    print('Llamando a @policia...')\n"
   ]
  },
  {
   "cell_type": "code",
   "execution_count": 30,
   "id": "aa11c434-2135-4cde-a059-0135a3bf2fb1",
   "metadata": {},
   "outputs": [
    {
     "name": "stdout",
     "output_type": "stream",
     "text": [
      "Se enciende la calculadora...\n"
     ]
    },
    {
     "name": "stdin",
     "output_type": "stream",
     "text": [
      "Dame la operación SAL\n"
     ]
    },
    {
     "name": "stdout",
     "output_type": "stream",
     "text": [
      "Se apaga la calculadora...\n"
     ]
    }
   ],
   "source": [
    "print('Se enciende la calculadora...')\n",
    "\n",
    "op = input('Dame la operación')\n",
    "resultado = 0\n",
    "while not (op == 'SAL'): #colocar condición...\n",
    "    a = float(input('Dame el valor de a'))\n",
    "    b = float(input('Dame el valor de b'))\n",
    "    if(op == 's' or op =='suma'):\n",
    "        resultado = a + b\n",
    "    elif(op == 'r' or op == 'resta'):\n",
    "        resultado = a - b\n",
    "    elif(op == 'd' or op == 'divide'): \n",
    "        while(b == 0):\n",
    "            print('Error! No se puede dividiir entre 0!! :(')\n",
    "            b = float(input('Dame el valor de b'))\n",
    "        resultado = a / b\n",
    "    print('El resultado es',resultado)\n",
    "    op = input('Dame la operación') #Si no hacemos esta recogida, bucle infinito...\n",
    "    \n",
    "print('Se apaga la calculadora...')\n"
   ]
  },
  {
   "cell_type": "markdown",
   "id": "ff3b59b4-0a36-4c69-97b5-93ee6572acbf",
   "metadata": {},
   "source": [
    "## Listas "
   ]
  },
  {
   "cell_type": "code",
   "execution_count": 31,
   "id": "28c223a6-1008-4ba3-a077-ea8dfb96887a",
   "metadata": {},
   "outputs": [
    {
     "name": "stdout",
     "output_type": "stream",
     "text": [
      "manzana\n",
      "pera\n"
     ]
    }
   ],
   "source": [
    "frutas = [ \"manzana\", \"banana\", \"pera\", \"uva\" ]\n",
    "# Acceder a elementos por índice\n",
    "print(frutas[0])  # Output: manzana\n",
    "print(frutas[2])  # Output: pera\n"
   ]
  },
  {
   "cell_type": "code",
   "execution_count": 32,
   "id": "0bfab146-bd8f-4640-858a-a1d6ffaa4321",
   "metadata": {},
   "outputs": [
    {
     "name": "stdout",
     "output_type": "stream",
     "text": [
      "['manzana', 'kiwi', 'pera', 'uva']\n"
     ]
    }
   ],
   "source": [
    "frutas[1] = \"kiwi\"\n",
    "print(frutas)  # Output: [\"manzana\", \"kiwi\", \"pera\", \"uva\"]\n"
   ]
  },
  {
   "cell_type": "code",
   "execution_count": 33,
   "id": "957b2646-ec6c-4c80-ac7e-63ebc1edd4e6",
   "metadata": {},
   "outputs": [
    {
     "name": "stdout",
     "output_type": "stream",
     "text": [
      "['manzana', 'kiwi', 'pera', 'uva', 'naranja']\n"
     ]
    }
   ],
   "source": [
    "frutas.append(\"naranja\")\n",
    "print(frutas)  # Output: [\"manzana\", \"kiwi\", \"pera\", \"uva\", \"naranja\"]\n"
   ]
  },
  {
   "cell_type": "code",
   "execution_count": 34,
   "id": "38ea7bc5-9915-4436-ab18-8869853c146c",
   "metadata": {},
   "outputs": [
    {
     "name": "stdout",
     "output_type": "stream",
     "text": [
      "['manzana', 'kiwi', 'uva', 'naranja']\n"
     ]
    }
   ],
   "source": [
    "del frutas[2]\n",
    "print(frutas)  # Output: [\"manzana\", \"kiwi\", \"uva\", \"naranja\"]\n"
   ]
  },
  {
   "cell_type": "code",
   "execution_count": 35,
   "id": "934d4dac-d708-4a64-b429-be0c410fb5d6",
   "metadata": {},
   "outputs": [
    {
     "name": "stdout",
     "output_type": "stream",
     "text": [
      "4\n"
     ]
    }
   ],
   "source": [
    "longitud = len(frutas)\n",
    "print(longitud)  # Output: 4\n"
   ]
  },
  {
   "cell_type": "code",
   "execution_count": 36,
   "id": "e406037b-aff4-4886-9dd2-96c55bf18df7",
   "metadata": {},
   "outputs": [
    {
     "name": "stdout",
     "output_type": "stream",
     "text": [
      "manzana\n",
      "kiwi\n",
      "uva\n",
      "naranja\n"
     ]
    }
   ],
   "source": [
    "for fruta in frutas:\n",
    "    print(fruta)\n"
   ]
  },
  {
   "cell_type": "code",
   "execution_count": 37,
   "id": "5d733751-722b-4d3d-9a8c-5a37633b3f5e",
   "metadata": {},
   "outputs": [
    {
     "name": "stdout",
     "output_type": "stream",
     "text": [
      "Sí, hay kiwi en la lista.\n"
     ]
    }
   ],
   "source": [
    "if \"kiwi\" in frutas:\n",
    "    print(\"Sí, hay kiwi en la lista.\")\n",
    "else:\n",
    "    print(\"No, no hay kiwi en la lista.\")\n"
   ]
  },
  {
   "cell_type": "code",
   "execution_count": 38,
   "id": "e44969b9-871c-4344-86b8-f7fbd1ff2b86",
   "metadata": {},
   "outputs": [
    {
     "name": "stdout",
     "output_type": "stream",
     "text": [
      "La suma total es: 150\n"
     ]
    }
   ],
   "source": [
    "numeros = [10, 20, 30, 40, 50]\n",
    "suma_total = 0\n",
    "\n",
    "for numero in numeros:\n",
    "    suma_total += numero\n",
    "\n",
    "print(\"La suma total es:\", suma_total)\n"
   ]
  },
  {
   "cell_type": "markdown",
   "id": "bc71b459-6a0f-4d6d-9a54-c56ff7f1b4f9",
   "metadata": {},
   "source": [
    "## Cadenas o String"
   ]
  },
  {
   "cell_type": "code",
   "execution_count": 39,
   "id": "905ee3f0-b705-422d-b93b-f68cc3556fd1",
   "metadata": {},
   "outputs": [
    {
     "name": "stdout",
     "output_type": "stream",
     "text": [
      "P\n",
      "t\n"
     ]
    }
   ],
   "source": [
    "texto = \"Python\"\n",
    "\n",
    "# Acceder a caracteres por índice\n",
    "print(texto[0])  # Output: P\n",
    "print(texto[2])  # Output: t\n"
   ]
  },
  {
   "cell_type": "code",
   "execution_count": 40,
   "id": "36d3a595-214f-440b-8bd8-68b585ee9757",
   "metadata": {},
   "outputs": [
    {
     "name": "stdout",
     "output_type": "stream",
     "text": [
      "Hola, Juan\n"
     ]
    }
   ],
   "source": [
    "saludo = \"Hola, \"\n",
    "nombre = \"Juan\"\n",
    "mensaje = saludo + nombre\n",
    "print(mensaje)  # Output: Hola, Juan\n"
   ]
  },
  {
   "cell_type": "code",
   "execution_count": 41,
   "id": "799473b7-4aa3-4bf7-9157-07857ee17dba",
   "metadata": {},
   "outputs": [
    {
     "name": "stdout",
     "output_type": "stream",
     "text": [
      "6\n"
     ]
    }
   ],
   "source": [
    "longitud = len(texto)\n",
    "print(longitud)  # Output: 6\n"
   ]
  },
  {
   "cell_type": "code",
   "execution_count": 42,
   "id": "b0eef1f8-0133-4aec-9169-643f9c26389a",
   "metadata": {},
   "outputs": [
    {
     "name": "stdout",
     "output_type": "stream",
     "text": [
      "P\n",
      "y\n",
      "t\n",
      "h\n",
      "o\n",
      "n\n"
     ]
    }
   ],
   "source": [
    "for letra in texto:\n",
    "    print(letra)\n"
   ]
  },
  {
   "cell_type": "code",
   "execution_count": 43,
   "id": "c2edeaf0-776a-46f3-86cc-32fdaf6ca1cf",
   "metadata": {},
   "outputs": [
    {
     "name": "stdout",
     "output_type": "stream",
     "text": [
      "La subcadena 'th' está en el texto.\n"
     ]
    }
   ],
   "source": [
    "if \"th\" in texto:\n",
    "    print(\"La subcadena 'th' está en el texto.\")\n",
    "else:\n",
    "    print(\"La subcadena 'th' no está en el texto.\")\n"
   ]
  },
  {
   "cell_type": "code",
   "execution_count": null,
   "id": "a62d2214-0d62-4123-b509-712d455e2272",
   "metadata": {},
   "outputs": [],
   "source": [
    "frase = \"Hola a todos\"\n",
    "palabras = frase.split()\n",
    "print(palabras)  # Output: una lista --> ['Hola', 'a', 'todos']\n"
   ]
  },
  {
   "cell_type": "code",
   "execution_count": 44,
   "id": "74273442-e448-4ab0-b5a4-a69857e2941a",
   "metadata": {},
   "outputs": [
    {
     "name": "stdout",
     "output_type": "stream",
     "text": [
      "PYTHON\n",
      "python\n"
     ]
    }
   ],
   "source": [
    "texto_mayusculas = texto.upper()\n",
    "texto_minusculas = texto.lower()\n",
    "print(texto_mayusculas)  # Output: PYTHON\n",
    "print(texto_minusculas)  # Output: python\n"
   ]
  },
  {
   "cell_type": "code",
   "execution_count": 45,
   "id": "f21fdc5d-1b8d-46de-93aa-ad8e1d5feaad",
   "metadata": {},
   "outputs": [
    {
     "name": "stdout",
     "output_type": "stream",
     "text": [
      "La cantidad de vocales en la palabra es: 5\n"
     ]
    }
   ],
   "source": [
    "palabra = \"programacion\"\n",
    "vocales = \"aeiou\"\n",
    "contador_vocales = 0\n",
    "\n",
    "for letra in palabra:\n",
    "    if letra in vocales:\n",
    "        contador_vocales += 1\n",
    "\n",
    "print(\"La cantidad de vocales en la palabra es:\", contador_vocales)\n"
   ]
  },
  {
   "cell_type": "markdown",
   "id": "1a8ac868-6597-4ae9-96cb-839e86487286",
   "metadata": {},
   "source": [
    "## Diccionarios"
   ]
  },
  {
   "cell_type": "code",
   "execution_count": 46,
   "id": "497e49a8-263d-4038-a664-596aa96b3dcb",
   "metadata": {},
   "outputs": [
    {
     "name": "stdout",
     "output_type": "stream",
     "text": [
      "Ana\n",
      "30\n"
     ]
    }
   ],
   "source": [
    "persona = {\n",
    "    \"nombre\": \"Ana\",\n",
    "    \"edad\": 30,\n",
    "    \"profesion\": \"ingeniera\"\n",
    "}\n",
    "\n",
    "# Acceder a valores por clave\n",
    "print(persona[\"nombre\"])  # Output: Ana\n",
    "print(persona[\"edad\"])    # Output: 30\n"
   ]
  },
  {
   "cell_type": "code",
   "execution_count": 47,
   "id": "bbde0f51-7062-4063-8bb5-9077c76c19d6",
   "metadata": {},
   "outputs": [
    {
     "name": "stdout",
     "output_type": "stream",
     "text": [
      "{'nombre': 'Ana', 'edad': 31, 'profesion': 'ingeniera'}\n"
     ]
    }
   ],
   "source": [
    "persona[\"edad\"] = 31\n",
    "print(persona)  # Output: {'nombre': 'Ana', 'edad': 31, 'profesion': 'ingeniera'}\n"
   ]
  },
  {
   "cell_type": "code",
   "execution_count": 48,
   "id": "4dded8b4-59f2-4968-892d-8a2a218b6f14",
   "metadata": {},
   "outputs": [
    {
     "name": "stdout",
     "output_type": "stream",
     "text": [
      "{'nombre': 'Ana', 'edad': 31, 'profesion': 'ingeniera', 'ciudad': 'Madrid'}\n"
     ]
    }
   ],
   "source": [
    "persona[\"ciudad\"] = \"Madrid\"\n",
    "print(persona)  # Output: {'nombre': 'Ana', 'edad': 31, 'profesion': 'ingeniera', 'ciudad': 'Madrid'}\n"
   ]
  },
  {
   "cell_type": "code",
   "execution_count": 49,
   "id": "38b7b3ad-cc2f-446a-b694-c1158bf8ad68",
   "metadata": {},
   "outputs": [
    {
     "name": "stdout",
     "output_type": "stream",
     "text": [
      "{'nombre': 'Ana', 'edad': 31, 'ciudad': 'Madrid'}\n"
     ]
    }
   ],
   "source": [
    "del persona[\"profesion\"]\n",
    "print(persona)  # Output: {'nombre': 'Ana', 'edad': 31, 'ciudad': 'Madrid'}\n"
   ]
  },
  {
   "cell_type": "code",
   "execution_count": 50,
   "id": "f99fca97-b4c3-414e-9624-b680c972a54f",
   "metadata": {},
   "outputs": [
    {
     "name": "stdout",
     "output_type": "stream",
     "text": [
      "La clave 'nombre' está en el diccionario.\n"
     ]
    }
   ],
   "source": [
    "if \"nombre\" in persona:\n",
    "    print(\"La clave 'nombre' está en el diccionario.\")\n",
    "else:\n",
    "    print(\"La clave 'nombre' no está en el diccionario.\")\n"
   ]
  },
  {
   "cell_type": "code",
   "execution_count": 51,
   "id": "79b50dec-3093-4e2c-baad-36d1c67c6919",
   "metadata": {},
   "outputs": [
    {
     "name": "stdout",
     "output_type": "stream",
     "text": [
      "nombre : Ana\n",
      "edad : 31\n",
      "ciudad : Madrid\n"
     ]
    }
   ],
   "source": [
    "for clave, valor in persona.items():\n",
    "    print(clave, \":\", valor)\n",
    "# Output:\n",
    "# nombre : Ana\n",
    "# edad : 31\n",
    "# ciudad : Madrid\n"
   ]
  },
  {
   "cell_type": "code",
   "execution_count": 52,
   "id": "ac80450e-7431-4d2a-a5b6-aa73ba8ed9f4",
   "metadata": {},
   "outputs": [
    {
     "name": "stdout",
     "output_type": "stream",
     "text": [
      "['nombre', 'edad', 'ciudad']\n",
      "['Ana', 31, 'Madrid']\n"
     ]
    }
   ],
   "source": [
    "claves = list(persona.keys())\n",
    "valores = list(persona.values())\n",
    "print(claves)   # Output: ['nombre', 'edad', 'ciudad']\n",
    "print(valores)  # Output: ['Ana', 31, 'Madrid']\n"
   ]
  },
  {
   "cell_type": "markdown",
   "id": "1c1ff238-910f-4310-b80e-22c2cb517c0c",
   "metadata": {},
   "source": [
    "## Ejemplo de uso de librería CSV\n",
    "\n",
    "> Documentación oficial de Python: https://docs.python.org/3/library/csv.html\n",
    "\n",
    "\n",
    "Para ello, crear en la misma dirección del cuaderno datos de prueba a mano y guardarlo como datos.csv."
   ]
  },
  {
   "cell_type": "code",
   "execution_count": null,
   "id": "c7845bbb-3fcc-42fc-96bd-abf66d20ed5b",
   "metadata": {},
   "outputs": [],
   "source": [
    "import csv\n",
    "\n",
    "# Lista para almacenar los datos transformados\n",
    "datos_transformados = []\n",
    "\n",
    "# Abrir y leer el archivo CSV\n",
    "with open(\"datos.csv\", \"r\") as archivo_csv:\n",
    "    lector_csv = csv.DictReader(archivo_csv)\n",
    "    \n",
    "    for fila in lector_csv:\n",
    "        nombre = fila[\"nombre\"]\n",
    "        edad = int(fila[\"edad\"]) * 12  # Transformación: Convertir edad en meses\n",
    "        ciudad = fila[\"ciudad\"]\n",
    "       \n",
    "        datos_transformados.append({\"nombre\": nombre, \"edad\": edad, \"ciudad\": ciudad})\n",
    "\n",
    "# Mostrar los datos originales y transformados\n",
    "print(\"Datos originales:\")\n",
    "with open(\"datos.csv\", \"r\") as archivo_csv:\n",
    "    print(archivo_csv.read())\n",
    "\n",
    "print(\"Datos transformados:\")\n",
    "for fila in datos_transformados:\n",
    "    print(fila)\n"
   ]
  },
  {
   "cell_type": "markdown",
   "id": "767bdcf7-8518-4e70-88db-10fde1bc86b5",
   "metadata": {},
   "source": [
    "Este cuaderno forma parte del entregable del libro relacionado con Big Data en colaboración con 0xWorld y BigBayData.com\n"
   ]
  },
  {
   "cell_type": "code",
   "execution_count": null,
   "id": "c2610113-e4c2-401f-b699-a6232711eb92",
   "metadata": {},
   "outputs": [],
   "source": []
  }
 ],
 "metadata": {
  "kernelspec": {
   "display_name": "Python 3 (ipykernel)",
   "language": "python",
   "name": "python3"
  },
  "language_info": {
   "codemirror_mode": {
    "name": "ipython",
    "version": 3
   },
   "file_extension": ".py",
   "mimetype": "text/x-python",
   "name": "python",
   "nbconvert_exporter": "python",
   "pygments_lexer": "ipython3",
   "version": "3.10.11"
  }
 },
 "nbformat": 4,
 "nbformat_minor": 5
}
