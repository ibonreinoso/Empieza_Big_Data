{
 "cells": [
  {
   "cell_type": "markdown",
   "id": "68fb97b2-9806-4667-9d09-b59f2c78f9f4",
   "metadata": {},
   "source": [
    "## Ejemplo de Hola mundo desde Jupyter"
   ]
  },
  {
   "cell_type": "code",
   "execution_count": 1,
   "id": "c87db3c4-1714-4b92-9e8e-f483432cedb5",
   "metadata": {},
   "outputs": [
    {
     "name": "stdout",
     "output_type": "stream",
     "text": [
      "Hola mundo\n"
     ]
    }
   ],
   "source": [
    "print('Hola mundo')"
   ]
  },
  {
   "cell_type": "markdown",
   "id": "65c42a57-b1eb-4d34-a684-42b9c63aff16",
   "metadata": {},
   "source": [
    "### Siguiendo con un bloque nuevo..."
   ]
  },
  {
   "cell_type": "code",
   "execution_count": 2,
   "id": "db8ca2dc-443d-41c4-bea2-b54c6d140d6f",
   "metadata": {},
   "outputs": [
    {
     "name": "stdout",
     "output_type": "stream",
     "text": [
      "Esto es otro bloque de código\n"
     ]
    }
   ],
   "source": [
    "print('Esto es otro bloque de código')"
   ]
  },
  {
   "cell_type": "code",
   "execution_count": null,
   "id": "7fa7a705-fa06-4038-ba58-83e5443a290c",
   "metadata": {},
   "outputs": [],
   "source": [
    "## Intenta añadir bloques de texto y código... \n",
    "'''\n",
    "1. Ejecuta bloques\n",
    "2. Escribe códigos de Python\n",
    "3. Cambia de orden los bloques\n",
    "4. Renombra el cuaderno\n",
    "5. Guardar todo\n",
    "'''"
   ]
  }
 ],
 "metadata": {
  "kernelspec": {
   "display_name": "Python 3 (ipykernel)",
   "language": "python",
   "name": "python3"
  },
  "language_info": {
   "codemirror_mode": {
    "name": "ipython",
    "version": 3
   },
   "file_extension": ".py",
   "mimetype": "text/x-python",
   "name": "python",
   "nbconvert_exporter": "python",
   "pygments_lexer": "ipython3",
   "version": "3.11.5"
  }
 },
 "nbformat": 4,
 "nbformat_minor": 5
}
